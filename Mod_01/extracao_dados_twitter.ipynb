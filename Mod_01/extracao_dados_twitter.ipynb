{
 "cells": [
  {
   "cell_type": "markdown",
   "metadata": {},
   "source": [
    "####  Qual o objetivo deste notebook?"
   ]
  },
  {
   "cell_type": "markdown",
   "metadata": {
    "ExecuteTime": {
     "end_time": "2021-03-19T18:51:17.002739Z",
     "start_time": "2021-03-19T18:51:16.997499Z"
    }
   },
   "source": [
    "    - O objetivo deste notebook é realizar a  coleta de dados do Twitter.\n",
    "    - Entender como trabalhar com um formato json.\n",
    "    - Selecionar as informações necessárias para a análise.\n",
    "    - Colocar os dados em um Dataframe."
   ]
  },
  {
   "cell_type": "markdown",
   "metadata": {
    "heading_collapsed": true
   },
   "source": [
    "# 0.0 Imports"
   ]
  },
  {
   "cell_type": "code",
   "execution_count": 57,
   "metadata": {
    "ExecuteTime": {
     "end_time": "2021-03-19T17:10:44.834265Z",
     "start_time": "2021-03-19T17:10:44.828128Z"
    },
    "hidden": true
   },
   "outputs": [],
   "source": [
    "import warnings\n",
    "import pandas as pd\n",
    "import seaborn as sns\n",
    "import json\n",
    "\n",
    "from IPython.core.display  import HTML\n",
    "from IPython.display       import Image\n"
   ]
  },
  {
   "cell_type": "markdown",
   "metadata": {
    "heading_collapsed": true,
    "hidden": true
   },
   "source": [
    "## 0.1 Helper Functions"
   ]
  },
  {
   "cell_type": "code",
   "execution_count": 140,
   "metadata": {
    "ExecuteTime": {
     "end_time": "2021-03-19T18:47:50.439274Z",
     "start_time": "2021-03-19T18:47:50.386381Z"
    },
    "hidden": true
   },
   "outputs": [
    {
     "name": "stdout",
     "output_type": "stream",
     "text": [
      "Populating the interactive namespace from numpy and matplotlib\n"
     ]
    },
    {
     "data": {
      "text/html": [
       "<style>.container {width:100% !important; }</style>"
      ],
      "text/plain": [
       "<IPython.core.display.HTML object>"
      ]
     },
     "metadata": {},
     "output_type": "display_data"
    }
   ],
   "source": [
    "#Função para selecionar a\n",
    "def data_tweets (data,drop_cols):\n",
    "    \n",
    "    try:\n",
    "    \n",
    "        #Selecionar os tweets e transforma em um Dataframe\n",
    "        data_clean = pd.DataFrame(data).reset_index(drop=True).iloc[:1]\n",
    "\n",
    "        #Excluir colunas que não vai ser necessária\n",
    "        data_clean.drop(columns=['quote_count','reply_count','retweet_count','favorite_count','favorited','retweeted','entities','retweeted_status'],inplace=True)\n",
    "\n",
    "\n",
    "        #Colocar no dataset o que vai ser necessário \n",
    "\n",
    "        data_clean['user_id'] = data['user']['id']\n",
    "        data_clean['user_id_str'] = data['user']['id_str']\n",
    "        data_clean['user_screen_name'] = data['user']['screen_name']\n",
    "        data_clean['user_location'] = data['user']['location']\n",
    "        data_clean['user_description'] = data['user']['description']\n",
    "        data_clean['user_protected'] = data['user']['protected']\n",
    "        data_clean['user_verified'] = data['user']['verified']\n",
    "        data_clean['user_followers_count'] = data['user']['followers_count']\n",
    "        data_clean['user_friends_count'] = data['user']['friends_count']\n",
    "        data_clean['user_created_at'] = data['user']['created_at']\n",
    "        \n",
    "    except:\n",
    "        return None\n",
    "\n",
    "    return data_clean\n",
    "\n",
    "\n",
    "def jupyter_settings():\n",
    "    \n",
    "    %matplotlib inline \n",
    "    %pylab inline\n",
    "    \n",
    "    plt.style.use('bmh')\n",
    "    plt.rcParams['figure.figsize']=[20,10]\n",
    "    plt.rcParams['font.size']=12\n",
    "    \n",
    "    display( HTML('<style>.container {width:100% !important; }</style>'))\n",
    "    pd.options.display.max_columns = None\n",
    "    pd.options.display.max_rows = None\n",
    "    pd.set_option('display.expand_frame_repr',False )\n",
    "    \n",
    "    sns.set()\n",
    "jupyter_settings()\n",
    "\n",
    "warnings.filterwarnings ('ignore')"
   ]
  },
  {
   "cell_type": "markdown",
   "metadata": {
    "heading_collapsed": true
   },
   "source": [
    "# 1.0 Loading Dataset"
   ]
  },
  {
   "cell_type": "markdown",
   "metadata": {
    "heading_collapsed": true,
    "hidden": true
   },
   "source": [
    "## 1.1 Coletando os dados"
   ]
  },
  {
   "cell_type": "code",
   "execution_count": 19,
   "metadata": {
    "ExecuteTime": {
     "end_time": "2021-03-17T18:15:15.085423Z",
     "start_time": "2021-03-17T18:15:13.362186Z"
    },
    "hidden": true
   },
   "outputs": [
    {
     "name": "stdout",
     "output_type": "stream",
     "text": [
      "Traceback (most recent call last):\r\n",
      "  File \"get_data.py\", line 15, in <module>\r\n",
      "    credentials = json.load(file_credentials)\r\n",
      "  File \"/home/bruna/.pyenv/versions/3.8.0/lib/python3.8/json/__init__.py\", line 293, in load\r\n",
      "    return loads(fp.read(),\r\n",
      "  File \"/home/bruna/.pyenv/versions/3.8.0/lib/python3.8/json/__init__.py\", line 357, in loads\r\n",
      "    return _default_decoder.decode(s)\r\n",
      "  File \"/home/bruna/.pyenv/versions/3.8.0/lib/python3.8/json/decoder.py\", line 337, in decode\r\n",
      "    obj, end = self.raw_decode(s, idx=_w(s, 0).end())\r\n",
      "  File \"/home/bruna/.pyenv/versions/3.8.0/lib/python3.8/json/decoder.py\", line 355, in raw_decode\r\n",
      "    raise JSONDecodeError(\"Expecting value\", s, err.value) from None\r\n",
      "json.decoder.JSONDecodeError: Expecting value: line 3 column 1 (char 2)\r\n"
     ]
    }
   ],
   "source": [
    "!python get_data.py"
   ]
  },
  {
   "cell_type": "markdown",
   "metadata": {
    "heading_collapsed": true,
    "hidden": true
   },
   "source": [
    "## 1.2 Carregando o  Dataset"
   ]
  },
  {
   "cell_type": "code",
   "execution_count": 141,
   "metadata": {
    "ExecuteTime": {
     "end_time": "2021-03-19T18:48:08.567382Z",
     "start_time": "2021-03-19T18:48:08.533331Z"
    },
    "hidden": true
   },
   "outputs": [],
   "source": [
    "# Abrir o arquivo de tweets e ler as linhas\n",
    "with open ('collected_tweets_2021- 03- 17- 14- 18- 59.txt ','r') as file:\n",
    "    df_raw = file.readlines()"
   ]
  },
  {
   "cell_type": "code",
   "execution_count": 142,
   "metadata": {
    "ExecuteTime": {
     "end_time": "2021-03-19T18:48:09.329528Z",
     "start_time": "2021-03-19T18:48:09.321788Z"
    },
    "hidden": true
   },
   "outputs": [],
   "source": [
    "with open('df_raw.json','w') as f:\n",
    "    json.dump(\n",
    "        json.loads(json.loads(df_raw[0])), f\n",
    "    )"
   ]
  },
  {
   "cell_type": "code",
   "execution_count": 143,
   "metadata": {
    "ExecuteTime": {
     "end_time": "2021-03-19T18:48:10.401371Z",
     "start_time": "2021-03-19T18:48:10.111196Z"
    },
    "hidden": true
   },
   "outputs": [],
   "source": [
    "#parse do tweets\n",
    "parsed_tweets = [json.loads(json.loads(i)) for i in df_raw]"
   ]
  },
  {
   "cell_type": "code",
   "execution_count": 150,
   "metadata": {
    "ExecuteTime": {
     "end_time": "2021-03-19T18:55:17.508356Z",
     "start_time": "2021-03-19T18:55:17.485522Z"
    },
    "hidden": true
   },
   "outputs": [
    {
     "data": {
      "text/plain": [
       "{'created_at': 'Wed Mar 17 17:18:54 +0000 2021',\n",
       " 'id': 1372236011086835715,\n",
       " 'id_str': '1372236011086835715',\n",
       " 'text': 'RT @DisneyParks: Just announced! Magic is finally returning to the @Disneyland Resort theme parks! Disneyland park &amp; Disney California Adve…',\n",
       " 'source': '<a href=\"http://twitter.com/download/iphone\" rel=\"nofollow\">Twitter for iPhone</a>',\n",
       " 'truncated': False,\n",
       " 'in_reply_to_status_id': None,\n",
       " 'in_reply_to_status_id_str': None,\n",
       " 'in_reply_to_user_id': None,\n",
       " 'in_reply_to_user_id_str': None,\n",
       " 'in_reply_to_screen_name': None,\n",
       " 'user': {'id': 129095435,\n",
       "  'id_str': '129095435',\n",
       "  'name': 'Serenaaaa. 💕',\n",
       "  'screen_name': 'Serenaa_Lovee',\n",
       "  'location': None,\n",
       "  'url': None,\n",
       "  'description': None,\n",
       "  'translator_type': 'none',\n",
       "  'protected': False,\n",
       "  'verified': False,\n",
       "  'followers_count': 415,\n",
       "  'friends_count': 278,\n",
       "  'listed_count': 2,\n",
       "  'favourites_count': 20063,\n",
       "  'statuses_count': 56880,\n",
       "  'created_at': 'Sat Apr 03 04:51:06 +0000 2010',\n",
       "  'utc_offset': None,\n",
       "  'time_zone': None,\n",
       "  'geo_enabled': True,\n",
       "  'lang': None,\n",
       "  'contributors_enabled': False,\n",
       "  'is_translator': False,\n",
       "  'profile_background_color': 'C0DEED',\n",
       "  'profile_background_image_url': 'http://abs.twimg.com/images/themes/theme1/bg.png',\n",
       "  'profile_background_image_url_https': 'https://abs.twimg.com/images/themes/theme1/bg.png',\n",
       "  'profile_background_tile': False,\n",
       "  'profile_link_color': '1DA1F2',\n",
       "  'profile_sidebar_border_color': 'C0DEED',\n",
       "  'profile_sidebar_fill_color': 'DDEEF6',\n",
       "  'profile_text_color': '333333',\n",
       "  'profile_use_background_image': True,\n",
       "  'profile_image_url': 'http://pbs.twimg.com/profile_images/1349156175070126080/LmTCS0uw_normal.jpg',\n",
       "  'profile_image_url_https': 'https://pbs.twimg.com/profile_images/1349156175070126080/LmTCS0uw_normal.jpg',\n",
       "  'profile_banner_url': 'https://pbs.twimg.com/profile_banners/129095435/1613336712',\n",
       "  'default_profile': True,\n",
       "  'default_profile_image': False,\n",
       "  'following': None,\n",
       "  'follow_request_sent': None,\n",
       "  'notifications': None},\n",
       " 'geo': None,\n",
       " 'coordinates': None,\n",
       " 'place': None,\n",
       " 'contributors': None,\n",
       " 'retweeted_status': {'created_at': 'Wed Mar 17 15:37:01 +0000 2021',\n",
       "  'id': 1372210369666617349,\n",
       "  'id_str': '1372210369666617349',\n",
       "  'text': 'Just announced! Magic is finally returning to the @Disneyland Resort theme parks! Disneyland park &amp; Disney Californ… https://t.co/tMx7J8ad3T',\n",
       "  'display_text_range': [0, 140],\n",
       "  'source': '<a href=\"https://sproutsocial.com\" rel=\"nofollow\">Sprout Social</a>',\n",
       "  'truncated': True,\n",
       "  'in_reply_to_status_id': None,\n",
       "  'in_reply_to_status_id_str': None,\n",
       "  'in_reply_to_user_id': None,\n",
       "  'in_reply_to_user_id_str': None,\n",
       "  'in_reply_to_screen_name': None,\n",
       "  'user': {'id': 29484644,\n",
       "   'id_str': '29484644',\n",
       "   'name': 'Disney Parks',\n",
       "   'screen_name': 'DisneyParks',\n",
       "   'location': 'Orlando, FL',\n",
       "   'url': 'http://disneyparksblog.com/',\n",
       "   'description': 'The happiest Twitter feed on Earth! Sharing news and magic for Disney Parks, Experiences and Products. ✨',\n",
       "   'translator_type': 'none',\n",
       "   'protected': False,\n",
       "   'verified': True,\n",
       "   'followers_count': 1898167,\n",
       "   'friends_count': 29,\n",
       "   'listed_count': 8392,\n",
       "   'favourites_count': 494,\n",
       "   'statuses_count': 31811,\n",
       "   'created_at': 'Tue Apr 07 16:38:44 +0000 2009',\n",
       "   'utc_offset': None,\n",
       "   'time_zone': None,\n",
       "   'geo_enabled': False,\n",
       "   'lang': None,\n",
       "   'contributors_enabled': False,\n",
       "   'is_translator': False,\n",
       "   'profile_background_color': '1C0A72',\n",
       "   'profile_background_image_url': 'http://abs.twimg.com/images/themes/theme1/bg.png',\n",
       "   'profile_background_image_url_https': 'https://abs.twimg.com/images/themes/theme1/bg.png',\n",
       "   'profile_background_tile': False,\n",
       "   'profile_link_color': '00008B',\n",
       "   'profile_sidebar_border_color': '000000',\n",
       "   'profile_sidebar_fill_color': 'DCF3FA',\n",
       "   'profile_text_color': '3C3940',\n",
       "   'profile_use_background_image': True,\n",
       "   'profile_image_url': 'http://pbs.twimg.com/profile_images/1344654685949538304/-dX4Wep4_normal.jpg',\n",
       "   'profile_image_url_https': 'https://pbs.twimg.com/profile_images/1344654685949538304/-dX4Wep4_normal.jpg',\n",
       "   'profile_banner_url': 'https://pbs.twimg.com/profile_banners/29484644/1609425636',\n",
       "   'default_profile': False,\n",
       "   'default_profile_image': False,\n",
       "   'following': None,\n",
       "   'follow_request_sent': None,\n",
       "   'notifications': None},\n",
       "  'geo': None,\n",
       "  'coordinates': None,\n",
       "  'place': None,\n",
       "  'contributors': None,\n",
       "  'is_quote_status': False,\n",
       "  'extended_tweet': {'full_text': 'Just announced! Magic is finally returning to the @Disneyland Resort theme parks! Disneyland park &amp; Disney California Adventure park are planning to officially reopen to the public on April 30, with limited capacity. More details on the Disney Parks Blog: https://t.co/ITJiKCzVmc https://t.co/tyFqW8gZYj',\n",
       "   'display_text_range': [0, 283],\n",
       "   'entities': {'hashtags': [],\n",
       "    'urls': [{'url': 'https://t.co/ITJiKCzVmc',\n",
       "      'expanded_url': 'https://bit.ly/3rXNwea',\n",
       "      'display_url': 'bit.ly/3rXNwea',\n",
       "      'indices': [260, 283]}],\n",
       "    'user_mentions': [{'screen_name': 'Disneyland',\n",
       "      'name': 'Disneyland Resort',\n",
       "      'id': 12378512,\n",
       "      'id_str': '12378512',\n",
       "      'indices': [50, 61]}],\n",
       "    'symbols': [],\n",
       "    'media': [{'id': 1372210358451068933,\n",
       "      'id_str': '1372210358451068933',\n",
       "      'indices': [284, 307],\n",
       "      'media_url': 'http://pbs.twimg.com/media/EwsSDPyWYAUnvdx.jpg',\n",
       "      'media_url_https': 'https://pbs.twimg.com/media/EwsSDPyWYAUnvdx.jpg',\n",
       "      'url': 'https://t.co/tyFqW8gZYj',\n",
       "      'display_url': 'pic.twitter.com/tyFqW8gZYj',\n",
       "      'expanded_url': 'https://twitter.com/DisneyParks/status/1372210369666617349/photo/1',\n",
       "      'type': 'photo',\n",
       "      'sizes': {'thumb': {'w': 150, 'h': 150, 'resize': 'crop'},\n",
       "       'medium': {'w': 1200, 'h': 600, 'resize': 'fit'},\n",
       "       'large': {'w': 2048, 'h': 1024, 'resize': 'fit'},\n",
       "       'small': {'w': 680, 'h': 340, 'resize': 'fit'}}}]},\n",
       "   'extended_entities': {'media': [{'id': 1372210358451068933,\n",
       "      'id_str': '1372210358451068933',\n",
       "      'indices': [284, 307],\n",
       "      'media_url': 'http://pbs.twimg.com/media/EwsSDPyWYAUnvdx.jpg',\n",
       "      'media_url_https': 'https://pbs.twimg.com/media/EwsSDPyWYAUnvdx.jpg',\n",
       "      'url': 'https://t.co/tyFqW8gZYj',\n",
       "      'display_url': 'pic.twitter.com/tyFqW8gZYj',\n",
       "      'expanded_url': 'https://twitter.com/DisneyParks/status/1372210369666617349/photo/1',\n",
       "      'type': 'photo',\n",
       "      'sizes': {'thumb': {'w': 150, 'h': 150, 'resize': 'crop'},\n",
       "       'medium': {'w': 1200, 'h': 600, 'resize': 'fit'},\n",
       "       'large': {'w': 2048, 'h': 1024, 'resize': 'fit'},\n",
       "       'small': {'w': 680, 'h': 340, 'resize': 'fit'}}}]}},\n",
       "  'quote_count': 520,\n",
       "  'reply_count': 94,\n",
       "  'retweet_count': 1066,\n",
       "  'favorite_count': 3723,\n",
       "  'entities': {'hashtags': [],\n",
       "   'urls': [{'url': 'https://t.co/tMx7J8ad3T',\n",
       "     'expanded_url': 'https://twitter.com/i/web/status/1372210369666617349',\n",
       "     'display_url': 'twitter.com/i/web/status/1…',\n",
       "     'indices': [121, 144]}],\n",
       "   'user_mentions': [{'screen_name': 'Disneyland',\n",
       "     'name': 'Disneyland Resort',\n",
       "     'id': 12378512,\n",
       "     'id_str': '12378512',\n",
       "     'indices': [50, 61]}],\n",
       "   'symbols': []},\n",
       "  'favorited': False,\n",
       "  'retweeted': False,\n",
       "  'possibly_sensitive': False,\n",
       "  'filter_level': 'low',\n",
       "  'lang': 'en'},\n",
       " 'is_quote_status': False,\n",
       " 'quote_count': 0,\n",
       " 'reply_count': 0,\n",
       " 'retweet_count': 0,\n",
       " 'favorite_count': 0,\n",
       " 'entities': {'hashtags': [],\n",
       "  'urls': [],\n",
       "  'user_mentions': [{'screen_name': 'DisneyParks',\n",
       "    'name': 'Disney Parks',\n",
       "    'id': 29484644,\n",
       "    'id_str': '29484644',\n",
       "    'indices': [3, 15]},\n",
       "   {'screen_name': 'Disneyland',\n",
       "    'name': 'Disneyland Resort',\n",
       "    'id': 12378512,\n",
       "    'id_str': '12378512',\n",
       "    'indices': [67, 78]}],\n",
       "  'symbols': []},\n",
       " 'favorited': False,\n",
       " 'retweeted': False,\n",
       " 'filter_level': 'low',\n",
       " 'lang': 'en',\n",
       " 'timestamp_ms': '1616001534612'}"
      ]
     },
     "execution_count": 150,
     "metadata": {},
     "output_type": "execute_result"
    }
   ],
   "source": [
    "parsed_tweets[0]"
   ]
  },
  {
   "cell_type": "code",
   "execution_count": 144,
   "metadata": {
    "ExecuteTime": {
     "end_time": "2021-03-19T18:48:11.024115Z",
     "start_time": "2021-03-19T18:48:11.016800Z"
    },
    "hidden": true
   },
   "outputs": [
    {
     "data": {
      "text/plain": [
       "878"
      ]
     },
     "execution_count": 144,
     "metadata": {},
     "output_type": "execute_result"
    }
   ],
   "source": [
    "#quantidade de twitter coletados\n",
    "len(parsed_tweets)"
   ]
  },
  {
   "cell_type": "markdown",
   "metadata": {
    "heading_collapsed": true
   },
   "source": [
    "# 2.0 Manipulação dos Dados"
   ]
  },
  {
   "cell_type": "code",
   "execution_count": 145,
   "metadata": {
    "ExecuteTime": {
     "end_time": "2021-03-19T18:48:12.364189Z",
     "start_time": "2021-03-19T18:48:12.354526Z"
    },
    "hidden": true
   },
   "outputs": [],
   "source": [
    "#Colunas para excluir\n",
    "cols_drop= ['quote_count','reply_count','retweet_count','favorite_count','favorited','retweeted','entities','retweeted_status']"
   ]
  },
  {
   "cell_type": "code",
   "execution_count": 146,
   "metadata": {
    "ExecuteTime": {
     "end_time": "2021-03-19T18:48:19.601136Z",
     "start_time": "2021-03-19T18:48:13.174166Z"
    },
    "hidden": true
   },
   "outputs": [],
   "source": [
    "df1 = [data_tweets(df_raw, cols_drop) for df_raw in parsed_tweets]"
   ]
  },
  {
   "cell_type": "code",
   "execution_count": 147,
   "metadata": {
    "ExecuteTime": {
     "end_time": "2021-03-19T18:48:23.141260Z",
     "start_time": "2021-03-19T18:48:20.973998Z"
    },
    "hidden": true
   },
   "outputs": [],
   "source": [
    "# Eliminar as posições vazias da lista\n",
    "df1 = [i for i in df1 if i is not None]\n",
    "\n",
    "# Concatena os twitters\n",
    "df_clean = pd.concat(df1, ignore_index=True)"
   ]
  },
  {
   "cell_type": "code",
   "execution_count": 148,
   "metadata": {
    "ExecuteTime": {
     "end_time": "2021-03-19T18:48:23.223267Z",
     "start_time": "2021-03-19T18:48:23.144715Z"
    },
    "hidden": true
   },
   "outputs": [
    {
     "data": {
      "text/html": [
       "<div>\n",
       "<style scoped>\n",
       "    .dataframe tbody tr th:only-of-type {\n",
       "        vertical-align: middle;\n",
       "    }\n",
       "\n",
       "    .dataframe tbody tr th {\n",
       "        vertical-align: top;\n",
       "    }\n",
       "\n",
       "    .dataframe thead th {\n",
       "        text-align: right;\n",
       "    }\n",
       "</style>\n",
       "<table border=\"1\" class=\"dataframe\">\n",
       "  <thead>\n",
       "    <tr style=\"text-align: right;\">\n",
       "      <th></th>\n",
       "      <th>contributors</th>\n",
       "      <th>coordinates</th>\n",
       "      <th>created_at</th>\n",
       "      <th>extended_entities</th>\n",
       "      <th>filter_level</th>\n",
       "      <th>geo</th>\n",
       "      <th>id</th>\n",
       "      <th>id_str</th>\n",
       "      <th>in_reply_to_screen_name</th>\n",
       "      <th>in_reply_to_status_id</th>\n",
       "      <th>in_reply_to_status_id_str</th>\n",
       "      <th>in_reply_to_user_id</th>\n",
       "      <th>in_reply_to_user_id_str</th>\n",
       "      <th>is_quote_status</th>\n",
       "      <th>lang</th>\n",
       "      <th>place</th>\n",
       "      <th>possibly_sensitive</th>\n",
       "      <th>quoted_status</th>\n",
       "      <th>quoted_status_id</th>\n",
       "      <th>quoted_status_id_str</th>\n",
       "      <th>quoted_status_permalink</th>\n",
       "      <th>source</th>\n",
       "      <th>text</th>\n",
       "      <th>timestamp_ms</th>\n",
       "      <th>truncated</th>\n",
       "      <th>user</th>\n",
       "      <th>user_created_at</th>\n",
       "      <th>user_description</th>\n",
       "      <th>user_followers_count</th>\n",
       "      <th>user_friends_count</th>\n",
       "      <th>user_id</th>\n",
       "      <th>user_id_str</th>\n",
       "      <th>user_location</th>\n",
       "      <th>user_protected</th>\n",
       "      <th>user_screen_name</th>\n",
       "      <th>user_verified</th>\n",
       "    </tr>\n",
       "  </thead>\n",
       "  <tbody>\n",
       "    <tr>\n",
       "      <th>385</th>\n",
       "      <td>None</td>\n",
       "      <td>None</td>\n",
       "      <td>Wed Mar 17 17:23:08 +0000 2021</td>\n",
       "      <td>NaN</td>\n",
       "      <td>low</td>\n",
       "      <td>None</td>\n",
       "      <td>1372237075823669249</td>\n",
       "      <td>1372237075823669249</td>\n",
       "      <td>None</td>\n",
       "      <td>None</td>\n",
       "      <td>None</td>\n",
       "      <td>None</td>\n",
       "      <td>None</td>\n",
       "      <td>False</td>\n",
       "      <td>pt</td>\n",
       "      <td>None</td>\n",
       "      <td>True</td>\n",
       "      <td>NaN</td>\n",
       "      <td>NaN</td>\n",
       "      <td>NaN</td>\n",
       "      <td>NaN</td>\n",
       "      <td>&lt;a href=\"http://twitter.com/download/iphone\" r...</td>\n",
       "      <td>RT @SquadPapillon: LINK DO DRIVE DO FILME GRAV...</td>\n",
       "      <td>1616001788465</td>\n",
       "      <td>False</td>\n",
       "      <td>1308391088084996101</td>\n",
       "      <td>Tue Sep 22 13:02:10 +0000 2020</td>\n",
       "      <td>coé</td>\n",
       "      <td>42</td>\n",
       "      <td>161</td>\n",
       "      <td>1308391088084996101</td>\n",
       "      <td>1308391088084996101</td>\n",
       "      <td>None</td>\n",
       "      <td>False</td>\n",
       "      <td>botinhadovrau</td>\n",
       "      <td>False</td>\n",
       "    </tr>\n",
       "    <tr>\n",
       "      <th>265</th>\n",
       "      <td>None</td>\n",
       "      <td>None</td>\n",
       "      <td>Wed Mar 17 17:22:06 +0000 2021</td>\n",
       "      <td>NaN</td>\n",
       "      <td>low</td>\n",
       "      <td>None</td>\n",
       "      <td>1372236815608995841</td>\n",
       "      <td>1372236815608995841</td>\n",
       "      <td>None</td>\n",
       "      <td>None</td>\n",
       "      <td>None</td>\n",
       "      <td>None</td>\n",
       "      <td>None</td>\n",
       "      <td>True</td>\n",
       "      <td>und</td>\n",
       "      <td>None</td>\n",
       "      <td>NaN</td>\n",
       "      <td>1372185020870299650</td>\n",
       "      <td>1.372185e+18</td>\n",
       "      <td>1372185020870299650</td>\n",
       "      <td>NaN</td>\n",
       "      <td>&lt;a href=\"http://twitter.com/download/iphone\" r...</td>\n",
       "      <td>RT @vettepassby35: 😂😂😂</td>\n",
       "      <td>1616001726425</td>\n",
       "      <td>False</td>\n",
       "      <td>24758743</td>\n",
       "      <td>Mon Mar 16 20:07:50 +0000 2009</td>\n",
       "      <td>· 🇸🇱 · MM 🐍 • TMC 🏁</td>\n",
       "      <td>823</td>\n",
       "      <td>797</td>\n",
       "      <td>24758743</td>\n",
       "      <td>24758743</td>\n",
       "      <td>None</td>\n",
       "      <td>False</td>\n",
       "      <td>EdiBeOnIt</td>\n",
       "      <td>False</td>\n",
       "    </tr>\n",
       "    <tr>\n",
       "      <th>451</th>\n",
       "      <td>None</td>\n",
       "      <td>None</td>\n",
       "      <td>Wed Mar 17 17:23:46 +0000 2021</td>\n",
       "      <td>NaN</td>\n",
       "      <td>low</td>\n",
       "      <td>None</td>\n",
       "      <td>1372237234934587392</td>\n",
       "      <td>1372237234934587392</td>\n",
       "      <td>None</td>\n",
       "      <td>None</td>\n",
       "      <td>None</td>\n",
       "      <td>None</td>\n",
       "      <td>None</td>\n",
       "      <td>False</td>\n",
       "      <td>en</td>\n",
       "      <td>None</td>\n",
       "      <td>False</td>\n",
       "      <td>NaN</td>\n",
       "      <td>NaN</td>\n",
       "      <td>NaN</td>\n",
       "      <td>NaN</td>\n",
       "      <td>&lt;a href=\"http://tapbots.com/tweetbot\" rel=\"nof...</td>\n",
       "      <td>RT @Disney_Timeline: 2016 - Oasis Bar &amp;amp; Gr...</td>\n",
       "      <td>1616001826400</td>\n",
       "      <td>False</td>\n",
       "      <td>21149277</td>\n",
       "      <td>Wed Feb 18 00:04:40 +0000 2009</td>\n",
       "      <td>Always in a state of becoming while in search ...</td>\n",
       "      <td>6373</td>\n",
       "      <td>595</td>\n",
       "      <td>21149277</td>\n",
       "      <td>21149277</td>\n",
       "      <td>Spacestation Earth</td>\n",
       "      <td>False</td>\n",
       "      <td>MrEPCOT</td>\n",
       "      <td>False</td>\n",
       "    </tr>\n",
       "    <tr>\n",
       "      <th>400</th>\n",
       "      <td>None</td>\n",
       "      <td>None</td>\n",
       "      <td>Wed Mar 17 17:23:14 +0000 2021</td>\n",
       "      <td>NaN</td>\n",
       "      <td>low</td>\n",
       "      <td>None</td>\n",
       "      <td>1372237103132737536</td>\n",
       "      <td>1372237103132737536</td>\n",
       "      <td>None</td>\n",
       "      <td>None</td>\n",
       "      <td>None</td>\n",
       "      <td>None</td>\n",
       "      <td>None</td>\n",
       "      <td>False</td>\n",
       "      <td>fr</td>\n",
       "      <td>None</td>\n",
       "      <td>False</td>\n",
       "      <td>NaN</td>\n",
       "      <td>NaN</td>\n",
       "      <td>NaN</td>\n",
       "      <td>NaN</td>\n",
       "      <td>&lt;a href=\"http://twitter.com/download/android\" ...</td>\n",
       "      <td>RT @MarvelStory_: ‘Avengers: Infinity War’ ser...</td>\n",
       "      <td>1616001794976</td>\n",
       "      <td>False</td>\n",
       "      <td>2938843630</td>\n",
       "      <td>Tue Dec 23 21:41:51 +0000 2014</td>\n",
       "      <td>froid comme Reddington EGLD 💎</td>\n",
       "      <td>273</td>\n",
       "      <td>1258</td>\n",
       "      <td>2938843630</td>\n",
       "      <td>2938843630</td>\n",
       "      <td>Ah Batard Tu Fumes !?</td>\n",
       "      <td>False</td>\n",
       "      <td>MetLaFuite_Vso</td>\n",
       "      <td>False</td>\n",
       "    </tr>\n",
       "    <tr>\n",
       "      <th>448</th>\n",
       "      <td>None</td>\n",
       "      <td>None</td>\n",
       "      <td>Wed Mar 17 17:23:44 +0000 2021</td>\n",
       "      <td>NaN</td>\n",
       "      <td>low</td>\n",
       "      <td>None</td>\n",
       "      <td>1372237225694531588</td>\n",
       "      <td>1372237225694531588</td>\n",
       "      <td>None</td>\n",
       "      <td>None</td>\n",
       "      <td>None</td>\n",
       "      <td>None</td>\n",
       "      <td>None</td>\n",
       "      <td>False</td>\n",
       "      <td>fr</td>\n",
       "      <td>None</td>\n",
       "      <td>False</td>\n",
       "      <td>NaN</td>\n",
       "      <td>NaN</td>\n",
       "      <td>NaN</td>\n",
       "      <td>NaN</td>\n",
       "      <td>&lt;a href=\"http://twitter.com/download/iphone\" r...</td>\n",
       "      <td>RT @MarvelStory_: ‘Avengers: Infinity War’ ser...</td>\n",
       "      <td>1616001824197</td>\n",
       "      <td>False</td>\n",
       "      <td>586741271</td>\n",
       "      <td>Mon May 21 18:05:04 +0000 2012</td>\n",
       "      <td>On peut pas demander à un bourricot de devenir...</td>\n",
       "      <td>209</td>\n",
       "      <td>125</td>\n",
       "      <td>586741271</td>\n",
       "      <td>586741271</td>\n",
       "      <td>None</td>\n",
       "      <td>False</td>\n",
       "      <td>_baptnvr_</td>\n",
       "      <td>False</td>\n",
       "    </tr>\n",
       "  </tbody>\n",
       "</table>\n",
       "</div>"
      ],
      "text/plain": [
       "    contributors coordinates                      created_at extended_entities filter_level   geo                   id               id_str in_reply_to_screen_name in_reply_to_status_id in_reply_to_status_id_str in_reply_to_user_id in_reply_to_user_id_str  is_quote_status lang place possibly_sensitive        quoted_status  quoted_status_id quoted_status_id_str quoted_status_permalink                                             source                                               text   timestamp_ms  truncated                 user                 user_created_at                                   user_description  user_followers_count  user_friends_count              user_id          user_id_str           user_location  user_protected user_screen_name  user_verified\n",
       "385         None        None  Wed Mar 17 17:23:08 +0000 2021               NaN          low  None  1372237075823669249  1372237075823669249                    None                  None                      None                None                    None            False   pt  None               True                  NaN               NaN                  NaN                     NaN  <a href=\"http://twitter.com/download/iphone\" r...  RT @SquadPapillon: LINK DO DRIVE DO FILME GRAV...  1616001788465      False  1308391088084996101  Tue Sep 22 13:02:10 +0000 2020                                                coé                    42                 161  1308391088084996101  1308391088084996101                    None           False    botinhadovrau          False\n",
       "265         None        None  Wed Mar 17 17:22:06 +0000 2021               NaN          low  None  1372236815608995841  1372236815608995841                    None                  None                      None                None                    None             True  und  None                NaN  1372185020870299650      1.372185e+18  1372185020870299650                     NaN  <a href=\"http://twitter.com/download/iphone\" r...                             RT @vettepassby35: 😂😂😂  1616001726425      False             24758743  Mon Mar 16 20:07:50 +0000 2009                                · 🇸🇱 · MM 🐍 • TMC 🏁                   823                 797             24758743             24758743                    None           False        EdiBeOnIt          False\n",
       "451         None        None  Wed Mar 17 17:23:46 +0000 2021               NaN          low  None  1372237234934587392  1372237234934587392                    None                  None                      None                None                    None            False   en  None              False                  NaN               NaN                  NaN                     NaN  <a href=\"http://tapbots.com/tweetbot\" rel=\"nof...  RT @Disney_Timeline: 2016 - Oasis Bar &amp; Gr...  1616001826400      False             21149277  Wed Feb 18 00:04:40 +0000 2009  Always in a state of becoming while in search ...                  6373                 595             21149277             21149277      Spacestation Earth           False          MrEPCOT          False\n",
       "400         None        None  Wed Mar 17 17:23:14 +0000 2021               NaN          low  None  1372237103132737536  1372237103132737536                    None                  None                      None                None                    None            False   fr  None              False                  NaN               NaN                  NaN                     NaN  <a href=\"http://twitter.com/download/android\" ...  RT @MarvelStory_: ‘Avengers: Infinity War’ ser...  1616001794976      False           2938843630  Tue Dec 23 21:41:51 +0000 2014                      froid comme Reddington EGLD 💎                   273                1258           2938843630           2938843630  Ah Batard Tu Fumes !?            False   MetLaFuite_Vso          False\n",
       "448         None        None  Wed Mar 17 17:23:44 +0000 2021               NaN          low  None  1372237225694531588  1372237225694531588                    None                  None                      None                None                    None            False   fr  None              False                  NaN               NaN                  NaN                     NaN  <a href=\"http://twitter.com/download/iphone\" r...  RT @MarvelStory_: ‘Avengers: Infinity War’ ser...  1616001824197      False            586741271  Mon May 21 18:05:04 +0000 2012  On peut pas demander à un bourricot de devenir...                   209                 125            586741271            586741271                    None           False        _baptnvr_          False"
      ]
     },
     "execution_count": 148,
     "metadata": {},
     "output_type": "execute_result"
    }
   ],
   "source": [
    "#Verificando o Dataset\n",
    "df_clean.sample(5)"
   ]
  }
 ],
 "metadata": {
  "colab": {
   "authorship_tag": "ABX9TyM3331qBl8gODuPAYb0/UPK",
   "name": "Extracao_dados_twitter.ipynb",
   "provenance": [],
   "toc_visible": true
  },
  "kernelspec": {
   "display_name": "Python 3",
   "language": "python",
   "name": "python3"
  },
  "language_info": {
   "codemirror_mode": {
    "name": "ipython",
    "version": 3
   },
   "file_extension": ".py",
   "mimetype": "text/x-python",
   "name": "python",
   "nbconvert_exporter": "python",
   "pygments_lexer": "ipython3",
   "version": "3.8.0"
  }
 },
 "nbformat": 4,
 "nbformat_minor": 1
}
